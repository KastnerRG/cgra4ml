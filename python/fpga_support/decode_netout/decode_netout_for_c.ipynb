{
 "cells": [
  {
   "cell_type": "code",
   "execution_count": null,
   "metadata": {},
   "outputs": [],
   "source": [
    "'''\n",
    "Rewriting of the decode_netout() only using scalar operations and for loops,\n",
    "so it can be translated line by line to C. Two functions work for netout shape\n",
    "and mem_tensor shape.\n",
    "'''\n",
    "\n",
    "__author__ = \"Abarajithan G\"\n",
    "__copyright__ = \"Copyright 2019, Final Year Project\"\n",
    "__credits__ = [\"Abarajithan G\"]\n",
    "__version__ = \"1.0.0\"\n",
    "__maintainer__ = \"Abarajthan G\"\n",
    "__email__ = \"abarajithan07@gmail.com\"\n",
    "__status__ = \"Research\""
   ]
  },
  {
   "cell_type": "markdown",
   "metadata": {},
   "source": [
    "### Original Netout function"
   ]
  },
  {
   "cell_type": "code",
   "execution_count": 1,
   "metadata": {},
   "outputs": [],
   "source": [
    "import numpy as np\n",
    "import pickle\n",
    "from copy import deepcopy\n",
    "\n",
    "ANCHORS = [0.57273, 0.677385, 1.87446, 2.06253, 3.33843, 5.47434, 7.88282, 3.52778, 9.77052, 9.16828]\n",
    "NUM_CLASSES = 80\n",
    "OBJ_THRESHOLD = 0.3\n",
    "NMS_THRESHOLD = 0.3\n",
    "\n",
    "def decode_netout(netout, anchors, nb_class, obj_threshold=0.3, nms_threshold=0.3):\n",
    "    grid_h, grid_w, nb_box = netout.shape[:3]\n",
    "\n",
    "    boxes = []\n",
    "    \n",
    "    # decode the output by the network\n",
    "    netout[..., 4] = _sigmoid(netout[..., 4])\n",
    "    \n",
    "    netout[..., 5:] = netout[..., 4][..., np.newaxis] * \\\n",
    "        _softmax(netout[..., 5:])\n",
    "    netout[..., 5:] *= netout[..., 5:] > obj_threshold\n",
    "    \n",
    "    for row in range(grid_h):\n",
    "        for col in range(grid_w):\n",
    "            for b in range(nb_box):\n",
    "                # from 4th element onwards are confidence and class classes\n",
    "                classes = netout[row, col, b, 5:]\n",
    "\n",
    "                if np.sum(classes) > 0:\n",
    "                    # first 4 elements are x, y, w, and h\n",
    "                    x, y, w, h = netout[row, col, b, :4]\n",
    "                    \n",
    "                    # center position, unit: image width\n",
    "                    x = (col + _sigmoid(x)) / grid_w\n",
    "                    # center position, unit: image height\n",
    "                    y = (row + _sigmoid(y)) / grid_h\n",
    "                    w = anchors[2 * b + 0] * \\\n",
    "                        np.exp(w) / grid_w  # unit: image width\n",
    "                    h = anchors[2 * b + 1] * \\\n",
    "                        np.exp(h) / grid_h  # unit: image height\n",
    "                    confidence = netout[row, col, b, 4]\n",
    "\n",
    "                    box = BoundBox(x-w/2, y-h/2, x+w/2, y +\n",
    "                                   h/2, confidence, classes)\n",
    "                    box.label = np.argmax(classes)\n",
    "                    box.score = box.classes[box.label]\n",
    "\n",
    "                    boxes.append(box)\n",
    "#                     print(x,y,w,h)\n",
    "    return boxes\n",
    "\n",
    "def _sigmoid(x):\n",
    "    return 1. / (1. + np.exp(-x))\n",
    "\n",
    "\n",
    "def _softmax(x, axis=-1, t=-100.):\n",
    "    x = x - np.max(x)\n",
    "\n",
    "    if np.min(x) < t:\n",
    "        x = x/np.min(x)*t\n",
    "\n",
    "    e_x = np.exp(x)\n",
    "\n",
    "    return e_x / e_x.sum(axis, keepdims=True)\n",
    "\n",
    "class BoundBox:\n",
    "    def __init__(self, xmin, ymin, xmax, ymax, c=None, classes=None, label=None, score=None):\n",
    "        self.xmin = xmin\n",
    "        self.ymin = ymin\n",
    "        self.xmax = xmax\n",
    "        self.ymax = ymax\n",
    "\n",
    "        self.c = c\n",
    "        self.classes = classes\n",
    "\n",
    "        self.label = label\n",
    "        self.score = score"
   ]
  },
  {
   "cell_type": "code",
   "execution_count": 2,
   "metadata": {},
   "outputs": [],
   "source": [
    "def custom_softmax(x, dims, start_last=0):\n",
    "    '''\n",
    "    x should be a 4D array. Softmax is taken WRT to the last axis\n",
    "    '''\n",
    "    x_max = 13  # for numerical stability (avoid NANs). better keep it constant for computational efficiency\n",
    "    soft_sum = 0\n",
    "\n",
    "    e_test = np.zeros(x.shape).astype(np.float16) # Can declare a multidim array in C\n",
    "    e_sum  = 0\n",
    "    e_temp = 0\n",
    "\n",
    "    for i in range(dims[0]):\n",
    "        for j in range(dims[1]):\n",
    "            for k in range(dims[2]):\n",
    "                e_sum = 0               # NOTE: sum is taken over the innermost axis ONLY.\n",
    "                for l in range(start_last,dims[3]):\n",
    "                    e_sum += np.exp(x[i,j,k,l] - x_max)\n",
    "\n",
    "                for l in range(start_last,dims[3]):\n",
    "                    e_test[i,j,k,l] = np.exp(x[i,j,k,l] - x_max)/e_sum\n",
    "                    \n",
    "    return e_test\n",
    "\n",
    "def custom_sigmoid(x):\n",
    "    return 1. / (1. + np.exp(-x))"
   ]
  },
  {
   "cell_type": "markdown",
   "metadata": {},
   "source": [
    "## LINE BY LINE TRANSLATION\n",
    "\n",
    "Following code converts line by line into for loops and compares the accuracy. All numpy operations used are scaler operations (act on a single number, not matrix)"
   ]
  },
  {
   "cell_type": "code",
   "execution_count": 3,
   "metadata": {},
   "outputs": [],
   "source": [
    "grid_h = 8\n",
    "grid_w = 12\n",
    "nb_box = 5\n",
    "others = 85\n",
    "\n",
    "out = np.load('data/yolo_out_array.npy').reshape((1, grid_h, grid_w, nb_box, others))[0]\n",
    "netout = deepcopy(out)"
   ]
  },
  {
   "cell_type": "code",
   "execution_count": 4,
   "metadata": {},
   "outputs": [
    {
     "name": "stderr",
     "output_type": "stream",
     "text": [
      "C:\\ProgramData\\Anaconda3\\lib\\site-packages\\ipykernel_launcher.py:52: RuntimeWarning: overflow encountered in exp\n"
     ]
    },
    {
     "data": {
      "text/plain": [
       "0.0005555"
      ]
     },
     "execution_count": 4,
     "metadata": {},
     "output_type": "execute_result"
    }
   ],
   "source": [
    "netout[..., 4] = _sigmoid(netout[..., 4])\n",
    "for i in range(grid_h):\n",
    "    for j in range(grid_w):\n",
    "        for k in range(nb_box):\n",
    "            out[i,j,k,4] = _sigmoid(out[i,j,k,4])\n",
    "            \n",
    "np.sum(np.abs(out-netout))"
   ]
  },
  {
   "cell_type": "code",
   "execution_count": 5,
   "metadata": {},
   "outputs": [
    {
     "data": {
      "text/plain": [
       "0.0008545"
      ]
     },
     "execution_count": 5,
     "metadata": {},
     "output_type": "execute_result"
    }
   ],
   "source": [
    "softmax_netout_5 = _softmax(netout[..., 5:])\n",
    "soft_out = custom_softmax(out, (grid_h, grid_w, nb_box, others), start_last=5)\n",
    "\n",
    "np.max(np.abs(soft_out[...,5:]-softmax_netout_5))"
   ]
  },
  {
   "cell_type": "code",
   "execution_count": 6,
   "metadata": {},
   "outputs": [
    {
     "data": {
      "text/plain": [
       "0.0004883"
      ]
     },
     "execution_count": 6,
     "metadata": {},
     "output_type": "execute_result"
    }
   ],
   "source": [
    "netout[..., 5:] = netout[..., 4][..., np.newaxis] * _softmax(netout[..., 5:])\n",
    "soft_out = custom_softmax(out, (grid_h, grid_w, nb_box, others), start_last=5)\n",
    "\n",
    "for i in range(grid_h):\n",
    "    for j in range(grid_w):\n",
    "        for k in range(nb_box):\n",
    "            for l in range(5,others):\n",
    "                out[i,j,k,l] = out[i,j,k,4] * soft_out[i,j,k,l]\n",
    "                \n",
    "np.max(np.abs(out-netout))"
   ]
  },
  {
   "cell_type": "code",
   "execution_count": 7,
   "metadata": {},
   "outputs": [
    {
     "data": {
      "text/plain": [
       "0.0004883"
      ]
     },
     "execution_count": 7,
     "metadata": {},
     "output_type": "execute_result"
    }
   ],
   "source": [
    "netout[..., 5:] *= netout[..., 5:] > OBJ_THRESHOLD\n",
    "\n",
    "for i in range(grid_h):\n",
    "    for j in range(grid_w):\n",
    "        for k in range(nb_box):\n",
    "            for l in range(5,others):\n",
    "                out[i,j,k,l] = out[i,j,k,l] * (out[i,j,k,l] > OBJ_THRESHOLD) # This can be directly written in C\n",
    "\n",
    "np.max(np.abs(out-netout))"
   ]
  },
  {
   "cell_type": "markdown",
   "metadata": {},
   "source": [
    "## OPTIMIZATION\n",
    "\n",
    "Above code iterates with nested (4-level: i,j,k,l) for loop through the tensor several times. Once to calculate sigmoid, another to calculate softmax (inside custom_softmax function), then to multiply with softmax and finally to perform thresholding.\n",
    "\n",
    "Below, I have combined everything (including the operations of custom_sigmoid function) into a single pass. Cross checked. It works (Max absolute error is 0.0004883). "
   ]
  },
  {
   "cell_type": "code",
   "execution_count": 8,
   "metadata": {},
   "outputs": [],
   "source": [
    "grid_h = 8\n",
    "grid_w = 12\n",
    "nb_box = 5\n",
    "others = 85\n",
    "\n",
    "out = np.load('data/yolo_out_array.npy').reshape((1, grid_h, grid_w, nb_box, others))[0]"
   ]
  },
  {
   "cell_type": "code",
   "execution_count": 9,
   "metadata": {},
   "outputs": [
    {
     "name": "stderr",
     "output_type": "stream",
     "text": [
      "C:\\ProgramData\\Anaconda3\\lib\\site-packages\\ipykernel_launcher.py:52: RuntimeWarning: overflow encountered in exp\n"
     ]
    }
   ],
   "source": [
    "start_last=5\n",
    "x_max = 13  # for numerical stability (avoid NANs). better keep it constant for computational efficiency\n",
    "soft_sum = 0\n",
    "e_sum  = 0\n",
    "e_temp = 0\n",
    "e_sum_next = 0\n",
    "out_4 = 0\n",
    "tmp = 0\n",
    "\n",
    "for i in range(grid_h):\n",
    "    for j in range(grid_w):                \n",
    "        for k in range(-1, nb_box):\n",
    "            if k != -1:\n",
    "                out_4 = _sigmoid(out[i,j,k,4])\n",
    "                out[i,j,k,4] = out_4\n",
    "            \n",
    "            e_sum_next = 0\n",
    "            for l in range(start_last,others):\n",
    "                if k != nb_box-1:\n",
    "                    e_sum_next += np.exp(out[i,j,k+1,l] - x_max)\n",
    "                \n",
    "                if k != -1:\n",
    "                    tmp = out[i,j,k,l]\n",
    "                    tmp = out_4 * np.exp(tmp - x_max)/e_sum\n",
    "                    tmp *= tmp > OBJ_THRESHOLD\n",
    "                    out[i,j,k,l] = tmp\n",
    "                    \n",
    "            e_sum = e_sum_next\n"
   ]
  },
  {
   "cell_type": "code",
   "execution_count": 12,
   "metadata": {},
   "outputs": [
    {
     "name": "stderr",
     "output_type": "stream",
     "text": [
      "C:\\ProgramData\\Anaconda3\\lib\\site-packages\\ipykernel_launcher.py:52: RuntimeWarning: overflow encountered in exp\n"
     ]
    },
    {
     "data": {
      "text/plain": [
       "0.0004883"
      ]
     },
     "execution_count": 12,
     "metadata": {},
     "output_type": "execute_result"
    }
   ],
   "source": [
    "netout = np.load('data/yolo_out_array.npy').reshape((1, grid_h, grid_w, nb_box, others))[0]\n",
    "netout[..., 4] = _sigmoid(netout[..., 4])\n",
    "netout[..., 5:] = netout[..., 4][..., np.newaxis] * _softmax(netout[..., 5:])\n",
    "netout[..., 5:] *= netout[..., 5:] > OBJ_THRESHOLD\n",
    "\n",
    "np.max(np.abs(out-netout))"
   ]
  },
  {
   "cell_type": "code",
   "execution_count": 13,
   "metadata": {},
   "outputs": [
    {
     "name": "stderr",
     "output_type": "stream",
     "text": [
      "C:\\ProgramData\\Anaconda3\\lib\\site-packages\\ipykernel_launcher.py:52: RuntimeWarning: overflow encountered in exp\n"
     ]
    }
   ],
   "source": [
    "grid_h = 8\n",
    "grid_w = 12\n",
    "nb_box = 5\n",
    "others = 85\n",
    "\n",
    "out = np.load('data/yolo_out_array.npy').reshape((1, grid_h, grid_w, nb_box, others))[0].astype(np.float16)\n",
    "\n",
    "def netout_for_loop(out):\n",
    "    start_last=5\n",
    "    x_max = 13  # for numerical stability (avoid NANs). better keep it constant for computational efficiency\n",
    "    x_max = np.array(x_max, dtype=np.float16)\n",
    "    soft_sum = 0\n",
    "    e_sum  = 0\n",
    "    e_temp = 0\n",
    "    e_sum_next = 0\n",
    "    out_4 = 0\n",
    "    tmp = 0\n",
    "    sum_classes = 0\n",
    "\n",
    "    boxes = []\n",
    "\n",
    "    for i in range(grid_h):\n",
    "        for j in range(grid_w):                \n",
    "            for k in range(-1, nb_box):\n",
    "                if k != -1:\n",
    "                    out_4 = _sigmoid(out[i,j,k,4])\n",
    "                    out[i,j,k,4] = out_4\n",
    "\n",
    "                e_sum_next = 0\n",
    "                sum_classes = 0\n",
    "                label = 0\n",
    "                score = 0\n",
    "\n",
    "                for l in range(start_last,others):\n",
    "                    if k != nb_box-1:\n",
    "                        e_sum_next += np.exp(out[i,j,k+1,l] - x_max)\n",
    "\n",
    "                    if k != -1:\n",
    "                        tmp = out[i,j,k,l]\n",
    "                        tmp = out_4 * np.exp(tmp - x_max)/e_sum\n",
    "                        tmp *= tmp > OBJ_THRESHOLD\n",
    "\n",
    "                        tmp = tmp.astype(np.float16) # Not relevent to C\n",
    "                        out[i,j,k,l] = tmp # Line can be removed.\n",
    "\n",
    "                        sum_classes += tmp\n",
    "                        if tmp > score: # Get max score and corresponding label\n",
    "                            score = tmp\n",
    "                            label = l-5\n",
    "\n",
    "\n",
    "                e_sum = e_sum_next\n",
    "\n",
    "                if k == -1:\n",
    "                    continue\n",
    "                if sum_classes > 0 and score > OBJ_THRESHOLD:\n",
    "                    x = out[i,j,k,0]\n",
    "                    y = out[i,j,k,1]\n",
    "                    w = out[i,j,k,2]\n",
    "                    h = out[i,j,k,3]\n",
    "\n",
    "                    x = (j + custom_sigmoid(x))/grid_w\n",
    "                    y = (i + custom_sigmoid(y))/grid_h\n",
    "                    w = ANCHORS[2*k + 0] * np.exp(w) / grid_w\n",
    "                    h = ANCHORS[2*k + 1] * np.exp(h) / grid_h\n",
    "\n",
    "                    conf = out[i,j,k,4]\n",
    "\n",
    "                    box = BoundBox(\n",
    "                        xmin = x-w/2,\n",
    "                        ymin = y-h/2,\n",
    "                        xmax = x+w/2,\n",
    "                        ymax = y+h/2,\n",
    "                        c = conf,\n",
    "                        label = label,\n",
    "                        score = score\n",
    "                    ) # not including classes\n",
    "\n",
    "                    boxes.append(box)\n",
    "                    \n",
    "        \n",
    "    ## Include Non-max suppression algorithm here\n",
    "    # (Among all bboxes which have same class and IOU > NMS_THRESHOLD, remove all but the max confidence)\n",
    "    # The NMS algorithm they have used seems too complicated. Following looks good.\n",
    "    # This is best implemented through a linked list as follows:\n",
    "    #\n",
    "    # foreach (bbox1):\n",
    "    #    foreach (bbox2):\n",
    "    #        if bbox1.label != bbox2.label:\n",
    "    #            continue\n",
    "    #        if (iou(bbox1, bbox2) > NMS_THRESHOLD) and (bbox1.c > bbox2.c):\n",
    "    #            delete(bbox2)\n",
    "    \n",
    "    return boxes\n",
    "\n",
    "boxes = netout_for_loop(out)"
   ]
  },
  {
   "cell_type": "code",
   "execution_count": 14,
   "metadata": {},
   "outputs": [
    {
     "name": "stderr",
     "output_type": "stream",
     "text": [
      "C:\\ProgramData\\Anaconda3\\lib\\site-packages\\ipykernel_launcher.py:52: RuntimeWarning: overflow encountered in exp\n"
     ]
    }
   ],
   "source": [
    "grid_h = 8\n",
    "grid_w = 12\n",
    "nb_box = 5\n",
    "others = 85\n",
    "\n",
    "netout = np.load('data/yolo_out_array.npy').reshape((1, grid_h, grid_w, nb_box, others))[0]\n",
    "\n",
    "\n",
    "boxes_real = decode_netout(netout = netout, \n",
    "              anchors = ANCHORS, \n",
    "              nb_class=NUM_CLASSES,\n",
    "              obj_threshold=OBJ_THRESHOLD,\n",
    "              nms_threshold=NMS_THRESHOLD)"
   ]
  },
  {
   "cell_type": "code",
   "execution_count": 15,
   "metadata": {},
   "outputs": [
    {
     "name": "stdout",
     "output_type": "stream",
     "text": [
      "0.25126986151608866 0.25126986151608866\n",
      "0.0005916962475591703 0.0005916962475591703\n",
      "0.3795593195239012 0.3795593195239012\n",
      "0.37573448189209047 0.37573448189209047\n",
      "2 2\n",
      "0.7837 0.784\n",
      " \n",
      "0.40440627396696105 0.40440627396696105\n",
      "-0.007673135185744778 -0.007673135185744778\n",
      "0.5244583589278985 0.5244583589278985\n",
      "0.4223563130564427 0.4223563130564427\n",
      "2 2\n",
      "0.6865 0.6865\n",
      " \n",
      "0.5577878462219703 0.5577878462219703\n",
      "-0.014901071594461746 -0.014901071594461746\n",
      "0.7128487666321266 0.7128487666321266\n",
      "0.4090858082883508 0.4090858082883508\n",
      "2 2\n",
      "0.7563 0.756\n",
      " \n",
      "0.17264868060877522 0.17264868060877522\n",
      "0.3614984839311178 0.3614984839311178\n",
      "0.46008837299158767 0.46008837299158767\n",
      "1.0006838123002584 1.0006838123002584\n",
      "7 7\n",
      "0.512 0.512\n",
      " \n",
      "0.627531214524021 0.627531214524021\n",
      "0.5979452049786681 0.5979452049786681\n",
      "0.9239364171607398 0.9239364171607398\n",
      "0.9898764073712462 0.9898764073712462\n",
      "2 2\n",
      "0.7305 0.7305\n",
      " \n"
     ]
    }
   ],
   "source": [
    "len(boxes_real), len(boxes)\n",
    "\n",
    "for i in range(len(boxes)):\n",
    "    print(boxes[i].xmin, boxes_real[i].xmin)\n",
    "    print(boxes[i].ymin, boxes_real[i].ymin)\n",
    "    print(boxes[i].xmax, boxes_real[i].xmax)\n",
    "    print(boxes[i].ymax, boxes_real[i].ymax)\n",
    "    print(boxes[i].label, boxes_real[i].label)\n",
    "    print(boxes[i].score, boxes_real[i].score)\n",
    "    print(' ')"
   ]
  },
  {
   "cell_type": "markdown",
   "metadata": {},
   "source": [
    "## WORKING ON MEM_TENSOR\n",
    "\n",
    "Above code works on netout.shape = (8,12,5,85). It can work on the mem_tensor.shape = (12,5,85,8) with a slight modification.\n",
    "\n",
    "Note how I have simply switched the index of the tensors without changing anything else in the code (even the order of for loops stay the same!)"
   ]
  },
  {
   "cell_type": "code",
   "execution_count": 17,
   "metadata": {},
   "outputs": [],
   "source": [
    "grid_w = 12\n",
    "nb_box = 5\n",
    "others = 85\n",
    "grid_h = 8\n",
    "\n",
    "f = open('data/f16_yolo_out_mem_bytes.bin', 'rb')\n",
    "b = np.frombuffer(f.read(), dtype=np.float16)\n",
    "out = b.reshape(12, 5, 85, 8).copy()"
   ]
  },
  {
   "cell_type": "code",
   "execution_count": 18,
   "metadata": {},
   "outputs": [
    {
     "name": "stderr",
     "output_type": "stream",
     "text": [
      "C:\\ProgramData\\Anaconda3\\lib\\site-packages\\ipykernel_launcher.py:52: RuntimeWarning: overflow encountered in exp\n"
     ]
    }
   ],
   "source": [
    "start_last=5\n",
    "x_max = 13  # for numerical stability (avoid NANs). better keep it constant for computational efficiency\n",
    "soft_sum = 0\n",
    "e_sum  = 0\n",
    "e_temp = 0\n",
    "e_sum_next = 0\n",
    "\n",
    "for i in range(grid_h):\n",
    "    for j in range(grid_w):                \n",
    "        for k in range(-1, nb_box):\n",
    "            if k != -1:\n",
    "                out[j,k,4,i] = _sigmoid(out[j,k,4,i])\n",
    "            \n",
    "            e_sum_next = 0\n",
    "            for l in range(start_last,others):\n",
    "                if k != nb_box-1:\n",
    "                    e_sum_next += np.exp(out[j,k+1,l,i] - x_max)\n",
    "                \n",
    "                if k != -1:\n",
    "                    out[j,k,l,i] = out[j,k,4,i] * np.exp(out[j,k,l,i] - x_max)/e_sum\n",
    "                    out[j,k,l,i] *= out[j,k,l,i] > OBJ_THRESHOLD\n",
    "            e_sum = e_sum_next"
   ]
  },
  {
   "cell_type": "code",
   "execution_count": 19,
   "metadata": {},
   "outputs": [
    {
     "name": "stderr",
     "output_type": "stream",
     "text": [
      "C:\\ProgramData\\Anaconda3\\lib\\site-packages\\ipykernel_launcher.py:52: RuntimeWarning: overflow encountered in exp\n"
     ]
    },
    {
     "data": {
      "text/plain": [
       "0.0004883"
      ]
     },
     "execution_count": 19,
     "metadata": {},
     "output_type": "execute_result"
    }
   ],
   "source": [
    "out = np.einsum('bcda->abcd',out)\n",
    "netout = np.load('data/yolo_out_array.npy').reshape((1, grid_h, grid_w, nb_box, others))[0]\n",
    "netout[..., 4] = _sigmoid(netout[..., 4])\n",
    "netout[..., 5:] = netout[..., 4][..., np.newaxis] * _softmax(netout[..., 5:])\n",
    "netout[..., 5:] *= netout[..., 5:] > OBJ_THRESHOLD\n",
    "\n",
    "np.max(np.abs(out-netout))"
   ]
  },
  {
   "cell_type": "code",
   "execution_count": 21,
   "metadata": {},
   "outputs": [
    {
     "name": "stderr",
     "output_type": "stream",
     "text": [
      "C:\\ProgramData\\Anaconda3\\lib\\site-packages\\ipykernel_launcher.py:52: RuntimeWarning: overflow encountered in exp\n"
     ]
    }
   ],
   "source": [
    "grid_w = 12\n",
    "nb_box = 5\n",
    "others = 85\n",
    "grid_h = 8\n",
    "\n",
    "f = open('data/f16_yolo_out_mem_bytes.bin', 'rb')\n",
    "b = np.frombuffer(f.read(), dtype=np.float16)\n",
    "out = b.reshape(12, 5, 85, 8).copy()\n",
    "out.setflags(write = False)\n",
    "\n",
    "def mem_tensor_for_loop(out):\n",
    "    start_last=5\n",
    "    x_max = 13  # for numerical stability (avoid NANs). better keep it constant for computational efficiency\n",
    "    x_max = np.array(x_max, dtype=np.float16)\n",
    "    soft_sum = 0\n",
    "    e_sum  = 0\n",
    "    e_temp = 0\n",
    "    e_sum_next = 0\n",
    "    conf = 0\n",
    "    tmp = 0\n",
    "    sum_classes = 0\n",
    "\n",
    "    boxes = []\n",
    "\n",
    "    for i in range(grid_h):\n",
    "        for j in range(grid_w):                \n",
    "            for k in range(-1, nb_box):\n",
    "                if k != -1:\n",
    "                    conf = _sigmoid(out[j,k,4,i]) # <----------\n",
    "\n",
    "                e_sum_next = 0\n",
    "                sum_classes = 0\n",
    "                label = 0\n",
    "                score = 0\n",
    "\n",
    "                for l in range(start_last,others):\n",
    "                    if k != nb_box-1:\n",
    "                        e_sum_next += np.exp(out[j,k+1,l,i] - x_max)\n",
    "\n",
    "                    if k != -1:\n",
    "                        tmp = out[j,k,l,i]\n",
    "                        tmp = conf * np.exp(tmp - x_max)/e_sum\n",
    "                        tmp *= tmp > OBJ_THRESHOLD\n",
    "\n",
    "                        tmp = tmp.astype(np.float16) # Not relevent to C\n",
    "\n",
    "\n",
    "                        sum_classes += tmp\n",
    "                        if tmp > score: # Get max score and corresponding label\n",
    "                            score = tmp\n",
    "                            label = l-5\n",
    "\n",
    "\n",
    "                e_sum = e_sum_next\n",
    "\n",
    "                if k == -1:\n",
    "                    continue\n",
    "                if sum_classes > 0 and score > OBJ_THRESHOLD:\n",
    "                    x = out[j,k,0,i]\n",
    "                    y = out[j,k,1,i]\n",
    "                    w = out[j,k,2,i]\n",
    "                    h = out[j,k,3,i]\n",
    "\n",
    "                    x = (j + custom_sigmoid(x))/grid_w\n",
    "                    y = (i + custom_sigmoid(y))/grid_h\n",
    "                    w = ANCHORS[2*k + 0] * np.exp(w) / grid_w\n",
    "                    h = ANCHORS[2*k + 1] * np.exp(h) / grid_h\n",
    "\n",
    "#                     conf = out[j,k,4,i]\n",
    "#                     conf = out_4\n",
    "\n",
    "                    box = BoundBox(\n",
    "                        xmin = x-w/2,\n",
    "                        ymin = y-h/2,\n",
    "                        xmax = x+w/2,\n",
    "                        ymax = y+h/2,\n",
    "                        c = conf,\n",
    "                        label = label,\n",
    "                        score = score\n",
    "                    ) # not including classes\n",
    "\n",
    "                    boxes.append(box)\n",
    "                    \n",
    "    ## Above code returns all bbox that have confidence above OBJ_THRESHOLD\n",
    "    \n",
    "    ## Include Non-max suppression algorithm here\n",
    "    # (Among all bboxes which have same class and IOU > NMS_THRESHOLD, remove all but the max confidence)\n",
    "    # The NMS algorithm they have used seems too complicated. Following looks good.\n",
    "    # This is best implemented through a linked list as follows:\n",
    "    #\n",
    "    # foreach (bbox1):\n",
    "    #    foreach (bbox2):\n",
    "    #        if bbox1.label != bbox2.label:\n",
    "    #            continue\n",
    "    #        if (iou(bbox1, bbox2) > NMS_THRESHOLD) and (bbox1.c > bbox2.c):\n",
    "    #            delete(bbox2)\n",
    "    \n",
    "    return boxes\n",
    "\n",
    "\n",
    "\n",
    "\n",
    "boxes = mem_tensor_for_loop(out)"
   ]
  },
  {
   "cell_type": "code",
   "execution_count": 22,
   "metadata": {},
   "outputs": [
    {
     "name": "stdout",
     "output_type": "stream",
     "text": [
      "0.25126986151608866 0.25126986151608866\n",
      "0.0005916962475591703 0.0005916962475591703\n",
      "0.3795593195239012 0.3795593195239012\n",
      "0.37573448189209047 0.37573448189209047\n",
      "2 2\n",
      "0.7837 0.784\n",
      " \n",
      "0.40440627396696105 0.40440627396696105\n",
      "-0.007673135185744778 -0.007673135185744778\n",
      "0.5244583589278985 0.5244583589278985\n",
      "0.4223563130564427 0.4223563130564427\n",
      "2 2\n",
      "0.6865 0.6865\n",
      " \n",
      "0.5577878462219703 0.5577878462219703\n",
      "-0.014901071594461746 -0.014901071594461746\n",
      "0.7128487666321266 0.7128487666321266\n",
      "0.4090858082883508 0.4090858082883508\n",
      "2 2\n",
      "0.7563 0.756\n",
      " \n",
      "0.17264868060877522 0.17264868060877522\n",
      "0.3614984839311178 0.3614984839311178\n",
      "0.46008837299158767 0.46008837299158767\n",
      "1.0006838123002584 1.0006838123002584\n",
      "7 7\n",
      "0.512 0.512\n",
      " \n",
      "0.627531214524021 0.627531214524021\n",
      "0.5979452049786681 0.5979452049786681\n",
      "0.9239364171607398 0.9239364171607398\n",
      "0.9898764073712462 0.9898764073712462\n",
      "2 2\n",
      "0.7305 0.7305\n",
      " \n"
     ]
    }
   ],
   "source": [
    "len(boxes_real), len(boxes)\n",
    "\n",
    "for i in range(len(boxes)):\n",
    "    print(boxes[i].xmin, boxes_real[i].xmin)\n",
    "    print(boxes[i].ymin, boxes_real[i].ymin)\n",
    "    print(boxes[i].xmax, boxes_real[i].xmax)\n",
    "    print(boxes[i].ymax, boxes_real[i].ymax)\n",
    "    print(boxes[i].label, boxes_real[i].label)\n",
    "    print(boxes[i].score, boxes_real[i].score)\n",
    "    print(' ')"
   ]
  },
  {
   "cell_type": "code",
   "execution_count": null,
   "metadata": {},
   "outputs": [],
   "source": []
  }
 ],
 "metadata": {
  "kernelspec": {
   "display_name": "Python 3",
   "language": "python",
   "name": "python3"
  },
  "language_info": {
   "codemirror_mode": {
    "name": "ipython",
    "version": 3
   },
   "file_extension": ".py",
   "mimetype": "text/x-python",
   "name": "python",
   "nbconvert_exporter": "python",
   "pygments_lexer": "ipython3",
   "version": "3.7.2"
  }
 },
 "nbformat": 4,
 "nbformat_minor": 2
}
