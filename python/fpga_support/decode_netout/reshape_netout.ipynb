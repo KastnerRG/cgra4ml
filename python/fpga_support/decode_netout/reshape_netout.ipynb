{
 "cells": [
  {
   "cell_type": "code",
   "execution_count": 1,
   "metadata": {},
   "outputs": [],
   "source": [
    "'''\n",
    "Using the netout function and reshape the netout into fpga format and back.\n",
    "'''\n",
    "\n",
    "__author__ = \"Abarajithan G\"\n",
    "__copyright__ = \"Copyright 2019, Final Year Project\"\n",
    "__credits__ = [\"Abarajithan G\"]\n",
    "__version__ = \"1.0.0\"\n",
    "__maintainer__ = \"Abarajthan G\"\n",
    "__email__ = \"abarajithan07@gmail.com\"\n",
    "__status__ = \"Research\""
   ]
  },
  {
   "cell_type": "code",
   "execution_count": 2,
   "metadata": {},
   "outputs": [],
   "source": [
    "import numpy as np\n",
    "import pickle\n",
    "import sys\n",
    "sys.path.append(\"../../aba_framework/\")\n",
    "from utils import *\n",
    "\n",
    "ANCHORS = [0.57273, 0.677385, 1.87446, 2.06253, 3.33843, 5.47434, 7.88282, 3.52778, 9.77052, 9.16828]\n",
    "NUM_CLASSES = 80\n",
    "OBJ_THRESHOLD = 0.3\n",
    "NMS_THRESHOLD = 0.3"
   ]
  },
  {
   "cell_type": "code",
   "execution_count": 3,
   "metadata": {},
   "outputs": [
    {
     "data": {
      "text/plain": [
       "(1, 8, 12, 425)"
      ]
     },
     "execution_count": 3,
     "metadata": {},
     "output_type": "execute_result"
    }
   ],
   "source": [
    "boxes_real = pickle.load(open('data/boxes_list.pickle', 'rb'))\n",
    "\n",
    "yolo_py_out = np.load('data/yolo_out_array.npy')\n",
    "_, H, W, _ = yolo_py_out.shape\n",
    "yolo_py_out.shape"
   ]
  },
  {
   "cell_type": "code",
   "execution_count": 4,
   "metadata": {},
   "outputs": [
    {
     "data": {
      "text/plain": [
       "(8, 12, 5, 85)"
      ]
     },
     "execution_count": 4,
     "metadata": {},
     "output_type": "execute_result"
    }
   ],
   "source": [
    "netout_py_input = np.reshape(yolo_py_out, (1, H, W, 5, 85))[0]\n",
    "netout_py_input.shape"
   ]
  },
  {
   "cell_type": "code",
   "execution_count": 5,
   "metadata": {},
   "outputs": [
    {
     "name": "stderr",
     "output_type": "stream",
     "text": [
      "../../aba_framework\\utils.py:219: RuntimeWarning: overflow encountered in exp\n",
      "  return 1. / (1. + np.exp(-x))\n"
     ]
    }
   ],
   "source": [
    "boxes = decode_netout(netout = netout_py_input, \n",
    "              anchors = ANCHORS, \n",
    "              nb_class=NUM_CLASSES,\n",
    "              obj_threshold=OBJ_THRESHOLD,\n",
    "              nms_threshold=NMS_THRESHOLD)"
   ]
  },
  {
   "cell_type": "code",
   "execution_count": null,
   "metadata": {},
   "outputs": [],
   "source": []
  },
  {
   "cell_type": "code",
   "execution_count": 13,
   "metadata": {},
   "outputs": [],
   "source": [
    "yolo_py_out = np.load('data/yolo_out_array.npy')\n",
    "_, H, W, _ = yolo_py_out.shape\n",
    "netout_py_input = np.reshape(yolo_py_out, (1, H, W, 5, 85))[0]\n",
    "\n",
    "out_real = decode_netout(netout = netout_py_input, anchors = ANCHORS, nb_class=NUM_CLASSES,\n",
    "                         obj_threshold=OBJ_THRESHOLD, nms_threshold=NMS_THRESHOLD)"
   ]
  },
  {
   "cell_type": "code",
   "execution_count": 14,
   "metadata": {},
   "outputs": [
    {
     "name": "stdout",
     "output_type": "stream",
     "text": [
      "mem_tensor.shape =  (12, 425, 8)\n",
      "mem_array.shape =  (40800,)\n",
      "mem_array in Bytes:  81600\n"
     ]
    },
    {
     "data": {
      "text/plain": [
       "163200"
      ]
     },
     "execution_count": 14,
     "metadata": {},
     "output_type": "execute_result"
    }
   ],
   "source": [
    "yolo_py_out = np.load('data/yolo_out_array.npy')\n",
    "\n",
    "f16_mem_tensor = np.einsum('ijkl->klj',yolo_py_out) # (1,8,12,425) -> (12,425,8)\n",
    "f16_mem_array = f16_mem_tensor.flatten()\n",
    "f16_mem_array_bytes = f16_mem_array.tobytes()\n",
    "f = open('data/f16_yolo_out_mem_bytes.bin', 'wb')\n",
    "f.write(f16_mem_array)\n",
    "\n",
    "\n",
    "print('mem_tensor.shape = ',f16_mem_tensor.shape)\n",
    "print('mem_array.shape = ', f16_mem_array.shape)\n",
    "print('mem_array in Bytes: ', len(f16_mem_array_bytes))\n",
    "\n",
    "f32_mem_array = f16_mem_array.astype(np.float32)\n",
    "f32_mem_array_bytes = f32_mem_array.tobytes()\n",
    "f = open('data/f32_yolo_out_mem_bytes.bin', 'wb')\n",
    "f.write(f32_mem_array)"
   ]
  },
  {
   "cell_type": "code",
   "execution_count": 15,
   "metadata": {},
   "outputs": [
    {
     "data": {
      "text/plain": [
       "(12, 425, 8)"
      ]
     },
     "execution_count": 15,
     "metadata": {},
     "output_type": "execute_result"
    }
   ],
   "source": [
    "f16_mem_tensor.shape"
   ]
  },
  {
   "cell_type": "code",
   "execution_count": 16,
   "metadata": {},
   "outputs": [
    {
     "name": "stderr",
     "output_type": "stream",
     "text": [
      "C:\\ProgramData\\Anaconda3\\envs\\tf_gpu\\lib\\site-packages\\ipykernel_launcher.py:1: RuntimeWarning: divide by zero encountered in log10\n",
      "  \"\"\"Entry point for launching an IPython kernel.\n"
     ]
    },
    {
     "data": {
      "text/plain": [
       "-5.418"
      ]
     },
     "execution_count": 16,
     "metadata": {},
     "output_type": "execute_result"
    }
   ],
   "source": [
    "a = np.log10(np.abs(f16_mem_tensor))\n",
    "a = a[~np.isnan(a)]\n",
    "a = a[~np.isinf(a)]\n",
    "\n",
    "min(a)"
   ]
  },
  {
   "cell_type": "code",
   "execution_count": 14,
   "metadata": {},
   "outputs": [
    {
     "data": {
      "text/plain": [
       "(12, 5, 85, 8)"
      ]
     },
     "execution_count": 14,
     "metadata": {},
     "output_type": "execute_result"
    }
   ],
   "source": [
    "f16_tensor_reshaped = f16_mem_tensor.reshape((12,5,85,8))\n",
    "f16_tensor_reshaped.shape"
   ]
  },
  {
   "cell_type": "code",
   "execution_count": 15,
   "metadata": {},
   "outputs": [
    {
     "data": {
      "text/plain": [
       "-0.8057"
      ]
     },
     "execution_count": 15,
     "metadata": {},
     "output_type": "execute_result"
    }
   ],
   "source": [
    "f16_tensor_reshaped[0,1,2,3]"
   ]
  },
  {
   "cell_type": "code",
   "execution_count": 16,
   "metadata": {},
   "outputs": [
    {
     "data": {
      "text/plain": [
       "(12, 425, 8)"
      ]
     },
     "execution_count": 16,
     "metadata": {},
     "output_type": "execute_result"
    }
   ],
   "source": [
    "f16_mem_tensor.shape"
   ]
  },
  {
   "cell_type": "code",
   "execution_count": 17,
   "metadata": {},
   "outputs": [
    {
     "data": {
      "text/plain": [
       "0.9873"
      ]
     },
     "execution_count": 17,
     "metadata": {},
     "output_type": "execute_result"
    }
   ],
   "source": [
    "f16_mem_tensor.reshape((12,5,85,8))[0,0,3,4]"
   ]
  },
  {
   "cell_type": "code",
   "execution_count": 18,
   "metadata": {},
   "outputs": [],
   "source": [
    "f16_mem_array.shape\n",
    "i16_mem_array = np.frombuffer(f16_mem_array.tobytes(), dtype=np.uint16)"
   ]
  },
  {
   "cell_type": "code",
   "execution_count": 19,
   "metadata": {},
   "outputs": [],
   "source": [
    "with open('data/mem_array_f16.txt', 'w') as f:\n",
    "    for i in range(f16_mem_array.size):\n",
    "        f.write(str(f16_mem_array[i])+'\\n')"
   ]
  },
  {
   "cell_type": "code",
   "execution_count": 20,
   "metadata": {},
   "outputs": [],
   "source": [
    "with open('data/mem_array_i16.txt', 'w') as f:\n",
    "    for i in range(i16_mem_array.size):\n",
    "        f.write(str(i16_mem_array[i])+'\\n')"
   ]
  },
  {
   "cell_type": "code",
   "execution_count": 21,
   "metadata": {},
   "outputs": [],
   "source": [
    "netout_array = netout_py_input.flatten()\n",
    "with open('data/netout_array_f16.txt', 'w') as f:\n",
    "    for i in range(netout_array.size):\n",
    "        f.write(str(netout_array[i])+'\\n')"
   ]
  },
  {
   "cell_type": "code",
   "execution_count": 22,
   "metadata": {},
   "outputs": [],
   "source": [
    "netout_array_i16 = np.frombuffer(netout_array.tobytes(), dtype=np.uint16)\n",
    "with open('data/netout_array_i16.txt', 'w') as f:\n",
    "    for i in range(netout_array_i16.size):\n",
    "        f.write(str(netout_array_i16[i])+'\\n')"
   ]
  },
  {
   "cell_type": "code",
   "execution_count": 26,
   "metadata": {},
   "outputs": [],
   "source": [
    "f32_mem_array = f16_mem_array.astype(np.float32)\n",
    "i32_mem_array = np.frombuffer(f32_mem_array.tobytes(), dtype=np.uint32)\n",
    "f32_netout_array = netout_array.astype(np.float32)\n",
    "i32_netout_array = np.frombuffer(f32_netout_array.tobytes(), dtype=np.uint32)\n",
    "\n",
    "\n",
    "with open('data/mem_array_f32.txt', 'w') as f:\n",
    "    for i in range(f32_mem_array.size):\n",
    "        f.write(str(f32_mem_array[i])+'\\n')\n",
    "with open('data/mem_array_i32.txt', 'w') as f:\n",
    "    for i in range(i32_mem_array.size):\n",
    "        f.write(str(i32_mem_array[i])+'\\n')\n",
    "with open('data/netout_array_f32.txt', 'w') as f:\n",
    "    for i in range(f32_netout_array.size):\n",
    "        f.write(str(f32_netout_array[i])+'\\n')\n",
    "with open('data/netout_array_i32.txt', 'w') as f:\n",
    "    for i in range(f32_netout_array.size):\n",
    "        f.write(str(f32_netout_array[i])+'\\n')"
   ]
  },
  {
   "cell_type": "code",
   "execution_count": 27,
   "metadata": {},
   "outputs": [],
   "source": [
    "i16_all = np.arange(2**16, dtype=np.uint16)\n",
    "f16_all = np.frombuffer(i16_all.tobytes(), dtype=np.float16)\n",
    "\n",
    "f32_all = f16_all.astype(np.float32)\n",
    "i32_all = np.frombuffer(f32_all.tobytes(), dtype=np.uint32)\n",
    "\n",
    "with open('data/all_f32.txt', 'w') as f:\n",
    "    for i in range(f32_all.size):\n",
    "        f.write(str(f32_all[i])+'\\n')\n",
    "with open('data/all_i32.txt', 'w') as f:\n",
    "    for i in range(i32_all.size):\n",
    "        f.write(str(i32_all[i])+'\\n')\n",
    "with open('data/all_f32.bin', 'wb') as f:\n",
    "    f.write(f32_all.tobytes())"
   ]
  },
  {
   "cell_type": "code",
   "execution_count": null,
   "metadata": {},
   "outputs": [],
   "source": []
  }
 ],
 "metadata": {
  "kernelspec": {
   "display_name": "TensorFlow-GPU",
   "language": "python",
   "name": "tf_gpu"
  },
  "language_info": {
   "codemirror_mode": {
    "name": "ipython",
    "version": 3
   },
   "file_extension": ".py",
   "mimetype": "text/x-python",
   "name": "python",
   "nbconvert_exporter": "python",
   "pygments_lexer": "ipython3",
   "version": "3.6.8"
  }
 },
 "nbformat": 4,
 "nbformat_minor": 2
}
