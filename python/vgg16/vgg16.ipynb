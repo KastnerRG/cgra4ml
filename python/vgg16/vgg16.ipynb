{
 "cells": [
  {
   "cell_type": "markdown",
   "metadata": {},
   "source": [
    "### Extract weights, biases, inputs, outputs of VGG16 into a pickled dictionary\n",
    "\n",
    "Dictionary format:\n",
    "\n",
    "```\n",
    "* arrays_dict\n",
    "    * 'layer_name':\n",
    "        * 'input ':\n",
    "        * 'output':\n",
    "        * 'kernel': - if conv in layer_name\n",
    "        * 'bias  ': - if conv in layer_name\n",
    "```"
   ]
  },
  {
   "cell_type": "code",
   "execution_count": null,
   "metadata": {},
   "outputs": [],
   "source": [
    "import tensorflow as tf\n",
    "import numpy as np\n",
    "import pickle\n",
    "\n",
    "from tensorflow.keras.preprocessing import image\n",
    "from tensorflow.keras.applications.vgg16 import preprocess_input\n",
    "\n",
    "tf.keras.backend.set_floatx('float16')"
   ]
  },
  {
   "cell_type": "code",
   "execution_count": null,
   "metadata": {},
   "outputs": [],
   "source": [
    "vgg16_model = tf.keras.applications.VGG16(include_top=True, weights='imagenet')"
   ]
  },
  {
   "cell_type": "code",
   "execution_count": null,
   "metadata": {},
   "outputs": [],
   "source": [
    "img = image.load_img('elephant.jpg', target_size=(224, 224))\n",
    "x   = image.img_to_array(img)\n",
    "x   = np.expand_dims(x, axis=0)\n",
    "x   = preprocess_input(x)\n",
    "\n",
    "out = vgg16_model.predict(x)"
   ]
  },
  {
   "cell_type": "code",
   "execution_count": null,
   "metadata": {},
   "outputs": [],
   "source": [
    "layer_names = [layer.name for layer in vgg16_model.layers]\n",
    "layer_names"
   ]
  },
  {
   "cell_type": "code",
   "execution_count": null,
   "metadata": {},
   "outputs": [],
   "source": [
    "arrays_dict = {}\n",
    "config = {}\n",
    "indices  = {}\n",
    "tensors = []\n",
    "input_tensor = None\n",
    "i = 0\n",
    "\n",
    "for name in layer_names:\n",
    "    if 'input' in name:\n",
    "        input_tensor = vgg16_model.get_layer(name).output\n",
    "    else:\n",
    "        layer = vgg16_model.get_layer(name)\n",
    "        \n",
    "        arrays_dict[name] = {}\n",
    "        config[name] = {}\n",
    "        config[name]['layer'] = layer\n",
    "        \n",
    "        if 'conv' in name:\n",
    "            arrays_dict[name]['kernel'] = layer.weights[0].numpy()\n",
    "            arrays_dict[name]['bias']   = layer.weights[1].numpy()\n",
    "        \n",
    "        tensors += [layer.input]\n",
    "        config[name]['input_index']  = i\n",
    "        i += 1\n",
    "        \n",
    "        tensors += [layer.output]\n",
    "        config[name]['output_index'] = i\n",
    "        i += 1\n",
    "        \n",
    "tmp_model = tf.keras.Model(inputs=input_tensor, outputs=tensors)\n",
    "arrays = tmp_model.predict(x)\n",
    "\n",
    "assert len(arrays) == i\n",
    "\n",
    "for layer_name in arrays_dict:\n",
    "    arrays_dict[layer_name]['input']  = arrays[config[layer_name]['input_index']]\n",
    "    arrays_dict[layer_name]['output'] = arrays[config[layer_name]['output_index']]"
   ]
  },
  {
   "cell_type": "code",
   "execution_count": null,
   "metadata": {},
   "outputs": [],
   "source": [
    "arrays_dict['block1_conv1']['bias']"
   ]
  },
  {
   "cell_type": "code",
   "execution_count": null,
   "metadata": {},
   "outputs": [],
   "source": [
    "with open('vgg16_dict.pickle', 'wb') as f:\n",
    "    pickle.dump(arrays_dict, f)"
   ]
  },
  {
   "cell_type": "code",
   "execution_count": null,
   "metadata": {},
   "outputs": [],
   "source": [
    "arrays_dict_open = pickle.load(open('vgg16_dict.pickle', 'rb'))\n",
    "arrays_dict_open['block3_conv2']['input'].shape"
   ]
  },
  {
   "cell_type": "code",
   "execution_count": null,
   "metadata": {},
   "outputs": [],
   "source": []
  }
 ],
 "metadata": {
  "kernelspec": {
   "display_name": "tf2",
   "language": "python",
   "name": "tf2"
  },
  "language_info": {
   "codemirror_mode": {
    "name": "ipython",
    "version": 3
   },
   "file_extension": ".py",
   "mimetype": "text/x-python",
   "name": "python",
   "nbconvert_exporter": "python",
   "pygments_lexer": "ipython3",
   "version": "3.7.7"
  }
 },
 "nbformat": 4,
 "nbformat_minor": 4
}
