{
 "cells": [
  {
   "cell_type": "code",
   "execution_count": 1,
   "id": "2cda3c9e-5dce-4b3e-8d98-833d6bf8518a",
   "metadata": {},
   "outputs": [
    {
     "name": "stderr",
     "output_type": "stream",
     "text": [
      "c:\\ProgramData\\Miniconda3\\envs\\qkeras\\lib\\site-packages\\numpy\\_distributor_init.py:30: UserWarning: loaded more than 1 DLL from .libs:\n",
      "c:\\ProgramData\\Miniconda3\\envs\\qkeras\\lib\\site-packages\\numpy\\.libs\\libopenblas.FB5AE2TYXYH2IJRDKGDGQ3XBKLKTF43H.gfortran-win_amd64.dll\n",
      "c:\\ProgramData\\Miniconda3\\envs\\qkeras\\lib\\site-packages\\numpy\\.libs\\libopenblas64__v0.3.21-gcc_10_3_0.dll\n",
      "  warnings.warn(\"loaded more than 1 DLL from .libs:\"\n"
     ]
    }
   ],
   "source": [
    "from qkeras import *\n",
    "from tensorflow.keras.layers import Input, AveragePooling2D, Flatten, Softmax, Add, ZeroPadding2D, MaxPooling2D\n",
    "from tensorflow.keras.backend import random_uniform as rand_tensor\n",
    "import numpy as np\n",
    "from qkeras import *\n",
    "import math\n",
    "from tensorflow import keras"
   ]
  },
  {
   "cell_type": "code",
   "execution_count": 2,
   "id": "a55edbbe-6134-4b26-94a7-336824507e35",
   "metadata": {},
   "outputs": [],
   "source": [
    "def findMax(InArray, ph_start, pw_start, PKH, PKW):\n",
    "    results = np.zeros((XN, YC))\n",
    "    results -= math.inf\n",
    "    for i in range(ph_start, ph_start+PKH):\n",
    "        for j in range(pw_start, pw_start+PKW):\n",
    "            if i >=0 and j>=0 and i < XH and j < XW:\n",
    "                #cand = InArray[:,i,j,:]\n",
    "                #results = np.maximum(results, cand)\n",
    "                for n in range(XN):\n",
    "                    for c in range(YC):\n",
    "                        results[n][c] = max(results[n][c], InArray[n][i][j][c])\n",
    "    return results"
   ]
  },
  {
   "cell_type": "code",
   "execution_count": 3,
   "id": "00416ffd-f181-41c5-b255-5476bb7efc1f",
   "metadata": {},
   "outputs": [],
   "source": [
    "def findAvg(InArray, ph_start, pw_start, PKH, PKW):\n",
    "    results = np.zeros((XN, YC))\n",
    "    cnt = 0\n",
    "    for i in range(ph_start, ph_start+PKH):\n",
    "        for j in range(pw_start, pw_start+PKW):\n",
    "            if i >=0 and j>=0 and i < XH and j < XW:\n",
    "                results += InArray[:,i,j,:]\n",
    "                cnt += 1\n",
    "    return results/cnt"
   ]
  },
  {
   "cell_type": "code",
   "execution_count": 4,
   "id": "135489c3-c85e-42b1-9134-6d2be727957e",
   "metadata": {},
   "outputs": [],
   "source": [
    "def findOutlen(inLen, filter_size, stride, padding_type, dilation=1):    \n",
    "    adjusted_filter_size = filter_size + (filter_size-1)*(dilation-1)\n",
    "    out_adj = inLen if padding_type==\"same\" else inLen-adjusted_filter_size+1\n",
    "    return (out_adj+stride-1)//stride"
   ]
  },
  {
   "cell_type": "code",
   "execution_count": 5,
   "id": "760b46f0-88f9-4c35-b849-a4f974b9c9e5",
   "metadata": {},
   "outputs": [],
   "source": [
    "Widths = [3, 10, 32, 60, 100]\n",
    "Heights = [3, 10, 32, 60, 100]\n",
    "pSize = [(1,1), (2,2), (3,3)]\n",
    "pStride = [(1,1), (1,2), (2,1), (2,2), (2,3), (3,2), (3,3)]\n",
    "mode = [\"same\", \"valid\"]"
   ]
  },
  {
   "cell_type": "code",
   "execution_count": 13,
   "id": "c0722069-18e6-4335-b216-a59960cc8106",
   "metadata": {},
   "outputs": [],
   "source": [
    "def myPooling2D(pool_type, InArray, Pool_size, Stride, padding_type):\n",
    "    assert len(Pool_size)==2 and len(Stride)==2, f\"{len(Pool_size)}, {len(Stride)}\"\n",
    "    assert padding_type in {\"same\", \"valid\"}\n",
    "    assert pool_type in {\"max\", \"avg\"}\n",
    "\n",
    "    XN, XH, XW, YC = InArray.shape\n",
    "    PKH, PKW = Pool_size\n",
    "    PSH, PSW = Stride\n",
    "\n",
    "    # PYH = findOutlen(XH, PKH, PSH, padding_type)\n",
    "    # PYW = findOutlen(XW, PKW, PSW, padding_type)\n",
    "\n",
    "    if padding_type==\"same\":\n",
    "        PYH = (XH+PSH-1)//PSH\n",
    "        PYW = (XW+PSW-1)//PSW\n",
    "    else:\n",
    "        PYH = (XH-PKH+PSH)//PSH\n",
    "        PYW = (XW-PKW+PSW)//PSW\n",
    "\n",
    "\n",
    "    outArray = np.zeros((XN, PYH, PYW, YC))\n",
    "\n",
    "    p_st, q_st = 0, 0\n",
    "    if padding_type == \"same\":\n",
    "        p_st = max((PSH*(PYH-1)+PKH-XH)//2, 0)\n",
    "        q_st = max((PSW*(PYW-1)+PKW-XW)//2, 0)\n",
    "\n",
    "\n",
    "    for n in range(XN):\n",
    "        for c in range(YC):\n",
    "            for iyh in range(PYH):\n",
    "                for iyw in range(PYW):\n",
    "                    ph_start, pw_start = PSH*iyh-p_st, PSW*iyw-q_st\n",
    "                    ph_end, pw_end = PSH*iyh-p_st+PKH-1, PSW*iyw-q_st+PKW-1\n",
    "                    \n",
    "                    if pool_type=='max' :\n",
    "                        result = -math.inf\n",
    "                        for ixh in range(ph_end, ph_end-PKH,-1):\n",
    "                            for ixw in range(pw_end, pw_end-PKW,-1):\n",
    "                                if ixh >=0 and ixw>=0 and ixh < XH and ixw < XW:\n",
    "                                    result = max(result, InArray[n][ixh][ixw][c])\n",
    "                        \n",
    "                        outArray[n,iyh,iyw,c] = result\n",
    "                    else:\n",
    "\n",
    "                        result = 0\n",
    "                        cnt = 0\n",
    "                        for ixh in range(ph_end, ph_end-PKH,-1):\n",
    "                            for ixw in range(pw_end, pw_end-PKW,-1):\n",
    "                                if ixh >=0 and ixw>=0 and ixh < XH and ixw < XW:\n",
    "                                    result += InArray[n,ixh,ixw,c]\n",
    "                                    cnt += 1\n",
    "                        \n",
    "                        outArray[n,iyh,iyw,c] = result/cnt\n",
    "            \n",
    "    return outArray\n",
    "\n",
    "\n",
    "n = 1\n",
    "c = 64\n",
    "for w in Widths:\n",
    "    for h in Heights:\n",
    "        for size in pSize:\n",
    "            for stride in pStride:\n",
    "                for m in mode:\n",
    "                    assert size[0]==size[1], f\"pooling size must be square!\"\n",
    "                    x_in = tf.random.uniform(shape=(n, h, w, c), minval=-100, maxval=100, dtype=tf.int32)\n",
    "                    input_shape = x_in.shape[1:-1] + (c,)\n",
    "                \n",
    "                    x = Input(input_shape, name='input')\n",
    "                    x1 = MaxPooling2D(size, strides=stride, padding=m)(x)\n",
    "                    model1 = Model(inputs=[x], outputs=[x1])                        \n",
    "                    y_ref = model1(x_in).numpy()\n",
    "                    y_np = myPooling2D(\"max\", x_in.numpy(), size, stride, m)\n",
    "                \n",
    "                    assert y_ref.all() == y_np.all(), f\"maxpool error! shape = ({m}, {size}, {stride}, {n}, {h}, {w}, {c}), {y_ref.shape}, {y_np.shape}, {x_in.numpy()}, {y_ref}, {y_np}\"\n",
    "                    \n",
    "                    x2 = AveragePooling2D(size, strides=stride, padding=m)(x)\n",
    "                    model2 = Model(inputs=[x], outputs=[x2])\n",
    "                    y_ref = model2(x_in).numpy()\n",
    "                    y_np = myPooling2D(\"avg\", x_in.numpy(), size, stride, m)\n",
    "                    assert y_ref.all() == y_np.all(), f\"avgpool error! shape = ({m}, {size}, {stride}, {n}, {h}, {w}, {c}), {y_ref.shape}, {y_np.shape}, {x_in.numpy()}, {y_ref}, {y_np}\"\n",
    "                    "
   ]
  },
  {
   "cell_type": "code",
   "execution_count": null,
   "id": "eaba3163",
   "metadata": {},
   "outputs": [],
   "source": []
  }
 ],
 "metadata": {
  "kernelspec": {
   "display_name": "Python 3 (ipykernel)",
   "language": "python",
   "name": "python3"
  },
  "language_info": {
   "codemirror_mode": {
    "name": "ipython",
    "version": 3
   },
   "file_extension": ".py",
   "mimetype": "text/x-python",
   "name": "python",
   "nbconvert_exporter": "python",
   "pygments_lexer": "ipython3",
   "version": "3.10.9"
  }
 },
 "nbformat": 4,
 "nbformat_minor": 5
}
