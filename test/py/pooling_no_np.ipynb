{
 "cells": [
  {
   "cell_type": "code",
   "execution_count": 1,
   "id": "2cda3c9e-5dce-4b3e-8d98-833d6bf8518a",
   "metadata": {},
   "outputs": [
    {
     "name": "stderr",
     "output_type": "stream",
     "text": [
      "c:\\ProgramData\\Miniconda3\\envs\\qkeras\\lib\\site-packages\\numpy\\_distributor_init.py:30: UserWarning: loaded more than 1 DLL from .libs:\n",
      "c:\\ProgramData\\Miniconda3\\envs\\qkeras\\lib\\site-packages\\numpy\\.libs\\libopenblas.FB5AE2TYXYH2IJRDKGDGQ3XBKLKTF43H.gfortran-win_amd64.dll\n",
      "c:\\ProgramData\\Miniconda3\\envs\\qkeras\\lib\\site-packages\\numpy\\.libs\\libopenblas64__v0.3.21-gcc_10_3_0.dll\n",
      "  warnings.warn(\"loaded more than 1 DLL from .libs:\"\n"
     ]
    }
   ],
   "source": [
    "from qkeras import *\n",
    "from tensorflow.keras.layers import Input, AveragePooling2D, Flatten, Softmax, Add, ZeroPadding2D, MaxPooling2D\n",
    "from tensorflow.keras.backend import random_uniform as rand_tensor\n",
    "import numpy as np\n",
    "from qkeras import *\n",
    "import math\n",
    "from tensorflow import keras"
   ]
  },
  {
   "cell_type": "code",
   "execution_count": 2,
   "id": "c0722069-18e6-4335-b216-a59960cc8106",
   "metadata": {},
   "outputs": [],
   "source": [
    "Widths = [3, 10, 32, 60, 100]\n",
    "Heights = [3, 10, 32, 60, 100]\n",
    "pSize = [(1,1), (2,2), (3,3)]\n",
    "pStride = [(1,1), (1,2), (2,1), (2,2), (2,3), (3,2), (3,3)]\n",
    "mode = [\"same\", \"valid\"]\n",
    "\n",
    "\n",
    "def myPooling2D(pool_type, y_arr, Pool_size, Stride, padding_type):\n",
    "    assert len(Pool_size)==2 and len(Stride)==2, f\"{len(Pool_size)}, {len(Stride)}\"\n",
    "    assert padding_type in {\"same\", \"valid\"}\n",
    "    assert pool_type in {\"max\", \"avg\"}\n",
    "\n",
    "    YN, YH, YW, YC = y_arr.shape\n",
    "    PKH, PKW = Pool_size\n",
    "    PSH, PSW = Stride\n",
    "\n",
    "    if padding_type==\"same\":\n",
    "        PXH = (YH+PSH-1)//PSH\n",
    "        PXW = (YW+PSW-1)//PSW\n",
    "    else:\n",
    "        PXH = (YH-PKH+PSH)//PSH\n",
    "        PXW = (YW-PKW+PSW)//PSW\n",
    "\n",
    "\n",
    "    x_arr = np.zeros((YN, PXH, PXW, YC))\n",
    "\n",
    "    p_st, q_st = 0, 0\n",
    "    if padding_type == \"same\":\n",
    "        p_st = max((PSH*(PXH-1)+PKH-YH)//2, 0)\n",
    "        q_st = max((PSW*(PXW-1)+PKW-YW)//2, 0)\n",
    "\n",
    "\n",
    "    for n in range(YN):\n",
    "        for c in range(YC):\n",
    "            for ixh in range(PXH):\n",
    "                for ixw in range(PXW):\n",
    "                    \n",
    "                    ph_end, pw_end = PSH*ixh-p_st+PKH-1, PSW*ixw-q_st+PKW-1\n",
    "\n",
    "                    result = -math.inf if pool_type == 'max' else 0\n",
    "                    count = 0\n",
    "                    \n",
    "                    for iyh in range(ph_end, ph_end-PKH,-1):\n",
    "                        for iyw in range(pw_end, pw_end-PKW,-1):\n",
    "                            if iyh >=0 and iyw>=0 and iyh < YH and iyw < YW:\n",
    "                                count += 1\n",
    "                                \n",
    "                                if pool_type=='max':\n",
    "                                    result = max(result, y_arr[n][iyh][iyw][c])\n",
    "                                else:\n",
    "                                    result += y_arr[n,iyh,iyw,c]\n",
    "\n",
    "                    x_arr[n,ixh,ixw,c] = result if pool_type=='max' else result/count\n",
    "    return x_arr\n",
    "\n",
    "n = 1\n",
    "c = 1\n",
    "for w in Widths:\n",
    "    for h in Heights:\n",
    "        for size in pSize:\n",
    "            for stride in pStride:\n",
    "                for m in mode:\n",
    "                    assert size[0]==size[1], f\"pooling size must be square!\"\n",
    "                    x_in = tf.random.uniform(shape=(n, h, w, c), minval=-100, maxval=100, dtype=tf.int32)\n",
    "                    input_shape = x_in.shape[1:-1] + (c,)\n",
    "                \n",
    "                    x = Input(input_shape, name='input')\n",
    "                    x1 = MaxPooling2D(size, strides=stride, padding=m)(x)\n",
    "                    model1 = Model(inputs=[x], outputs=[x1])                        \n",
    "                    y_ref = model1(x_in).numpy()\n",
    "                    y_np = myPooling2D(\"max\", x_in.numpy(), size, stride, m)\n",
    "                \n",
    "                    assert y_ref.all() == y_np.all(), f\"maxpool error! shape = ({m}, {size}, {stride}, {n}, {h}, {w}, {c}), {y_ref.shape}, {y_np.shape}, {x_in.numpy()}, {y_ref}, {y_np}\"\n",
    "                    \n",
    "                    x2 = AveragePooling2D(size, strides=stride, padding=m)(x)\n",
    "                    model2 = Model(inputs=[x], outputs=[x2])\n",
    "                    y_ref = model2(x_in).numpy()\n",
    "                    y_np = myPooling2D(\"avg\", x_in.numpy(), size, stride, m)\n",
    "                    assert y_ref.all() == y_np.all(), f\"avgpool error! shape = ({m}, {size}, {stride}, {n}, {h}, {w}, {c}), {y_ref.shape}, {y_np.shape}, {x_in.numpy()}, {y_ref}, {y_np}\"\n",
    "                    "
   ]
  },
  {
   "cell_type": "code",
   "execution_count": null,
   "id": "87ab5209",
   "metadata": {},
   "outputs": [],
   "source": []
  }
 ],
 "metadata": {
  "kernelspec": {
   "display_name": "Python 3 (ipykernel)",
   "language": "python",
   "name": "python3"
  },
  "language_info": {
   "codemirror_mode": {
    "name": "ipython",
    "version": 3
   },
   "file_extension": ".py",
   "mimetype": "text/x-python",
   "name": "python",
   "nbconvert_exporter": "python",
   "pygments_lexer": "ipython3",
   "version": "3.10.9"
  }
 },
 "nbformat": 4,
 "nbformat_minor": 5
}
