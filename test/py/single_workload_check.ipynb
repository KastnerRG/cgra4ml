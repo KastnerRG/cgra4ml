{
 "cells": [
  {
   "cell_type": "code",
   "execution_count": 1,
   "id": "339034bf",
   "metadata": {},
   "outputs": [],
   "source": [
    "from pynq import Overlay\n",
    "import numpy as np\n",
    "from pynq import allocate"
   ]
  },
  {
   "cell_type": "code",
   "execution_count": 2,
   "id": "23527759",
   "metadata": {},
   "outputs": [
    {
     "data": {
      "application/javascript": [
       "\n",
       "try {\n",
       "require(['notebook/js/codecell'], function(codecell) {\n",
       "  codecell.CodeCell.options_default.highlight_modes[\n",
       "      'magic_text/x-csrc'] = {'reg':[/^%%microblaze/]};\n",
       "  Jupyter.notebook.events.one('kernel_ready.Kernel', function(){\n",
       "      Jupyter.notebook.get_cells().map(function(cell){\n",
       "          if (cell.cell_type == 'code'){ cell.auto_highlight(); } }) ;\n",
       "  });\n",
       "});\n",
       "} catch (e) {};\n"
      ]
     },
     "metadata": {},
     "output_type": "display_data"
    },
    {
     "data": {
      "application/javascript": [
       "\n",
       "try {\n",
       "require(['notebook/js/codecell'], function(codecell) {\n",
       "  codecell.CodeCell.options_default.highlight_modes[\n",
       "      'magic_text/x-csrc'] = {'reg':[/^%%pybind11/]};\n",
       "  Jupyter.notebook.events.one('kernel_ready.Kernel', function(){\n",
       "      Jupyter.notebook.get_cells().map(function(cell){\n",
       "          if (cell.cell_type == 'code'){ cell.auto_highlight(); } }) ;\n",
       "  });\n",
       "});\n",
       "} catch (e) {};\n"
      ]
     },
     "metadata": {},
     "output_type": "display_data"
    }
   ],
   "source": [
    "myOverlay = Overlay('design_1.bit')\n",
    "\n",
    "y_recv = myOverlay.dma_weights_out.recvchannel\n",
    "x_send = myOverlay.dma_pixels.sendchannel\n",
    "w_send = myOverlay.dma_weights_out.sendchannel\n",
    "\n",
    "# myOverlay.ip_dict\n",
    "# myOverlay.dma_weights_out.register_map\n",
    "# myOverlay.dma_pixels.register_map\n",
    "# help(myOverlay)"
   ]
  },
  {
   "cell_type": "code",
   "execution_count": 3,
   "id": "ccb1da09",
   "metadata": {},
   "outputs": [
    {
     "name": "stdout",
     "output_type": "stream",
     "text": [
      "26632 [ -8 -63   9 ...   0   0   0] \n",
      "\n",
      "1568 [  -8  -63   41 ...  -30 -115   21] \n",
      "\n",
      "6144 [-10586  45370  95000 ...  44898 -25447  58323] \n",
      "\n"
     ]
    }
   ],
   "source": [
    "data_x = np.loadtxt(\"0_x.txt\", dtype=np.int8)\n",
    "data_w = np.loadtxt(\"0_w.txt\", dtype=np.int8)\n",
    "data_y_exp = np.loadtxt(\"0_y_exp.txt\", dtype=np.int32)\n",
    "\n",
    "x_buf = allocate(shape=data_x.shape, dtype=np.int8)\n",
    "w_buf = allocate(shape=data_w.shape, dtype=np.int8)\n",
    "y_buf = allocate(shape=data_y_exp.shape, dtype=np.int32)\n",
    "\n",
    "x_buf[:] = data_x[:]\n",
    "w_buf[:] = data_w[:]\n",
    "y_buf[:] = 0\n",
    "x_buf.flush()\n",
    "w_buf.flush()\n",
    "y_buf.flush()\n",
    "\n",
    "print(data_x.size, data_x, '\\n')\n",
    "print(data_w.size, data_w, '\\n')\n",
    "print(data_y_exp.size, data_y_exp, '\\n')"
   ]
  },
  {
   "cell_type": "code",
   "execution_count": 4,
   "id": "5aa9d428",
   "metadata": {},
   "outputs": [],
   "source": [
    "y_recv.transfer(y_buf)\n",
    "\n",
    "w_send.transfer(w_buf)\n",
    "w_send.wait()\n",
    "\n",
    "x_send.transfer(x_buf)\n",
    "x_send.wait()\n",
    "\n",
    "y_buf.invalidate()"
   ]
  },
  {
   "cell_type": "code",
   "execution_count": 5,
   "id": "aeeb3ec5",
   "metadata": {},
   "outputs": [
    {
     "name": "stdout",
     "output_type": "stream",
     "text": [
      "-10586 \t -10586\n",
      "45370 \t 45370\n",
      "95000 \t 95000\n",
      "-25742 \t -25742\n",
      "19667 \t 19667\n",
      "7763 \t 7763\n",
      "-28948 \t -28948\n",
      "-68730 \t -68730\n",
      "-30787 \t -30787\n",
      "-66756 \t -66756\n",
      "\n",
      "\n",
      "58323 \t 58323\n",
      "-25447 \t -25447\n",
      "44898 \t 44898\n",
      "38237 \t 38237\n",
      "-7485 \t -7485\n",
      "47293 \t 47293\n",
      "-71599 \t -71599\n",
      "-3768 \t -3768\n",
      "-11951 \t -11951\n",
      "95 \t 95\n"
     ]
    }
   ],
   "source": [
    "for i in range(10):\n",
    "    print(np.int32(y_buf[i]), '\\t', np.int32(data_y_exp[i]))\n",
    "    #print(hex(y_buf[i]))\n",
    "    \n",
    "print('\\n')\n",
    "\n",
    "for i in range(10):\n",
    "    print(np.int32(y_buf[-i-1]), '\\t', np.int32(data_y_exp[-i-1]))\n",
    "    #print(hex(y_buf[i]))"
   ]
  },
  {
   "cell_type": "code",
   "execution_count": 6,
   "id": "0d097815",
   "metadata": {},
   "outputs": [
    {
     "data": {
      "text/plain": [
       "PynqBuffer(0)"
      ]
     },
     "execution_count": 6,
     "metadata": {},
     "output_type": "execute_result"
    }
   ],
   "source": [
    "np.sum(np.int32(data_y_exp) != np.int32(y_buf))"
   ]
  },
  {
   "cell_type": "code",
   "execution_count": 7,
   "id": "2eed34b7",
   "metadata": {},
   "outputs": [
    {
     "name": "stdout",
     "output_type": "stream",
     "text": [
      "\n",
      "\n",
      "starting\n",
      "-10586 \t -10586\n",
      "45370 \t 45370\n",
      "95000 \t 95000\n",
      "-25742 \t -25742\n",
      "19667 \t 19667\n",
      "7763 \t 7763\n",
      "-28948 \t -28948\n",
      "-68730 \t -68730\n",
      "-30787 \t -30787\n",
      "-66756 \t -66756\n",
      "\n",
      "\n",
      "58323 \t 58323\n",
      "-25447 \t -25447\n",
      "44898 \t 44898\n",
      "38237 \t 38237\n",
      "-7485 \t -7485\n",
      "47293 \t 47293\n",
      "-71599 \t -71599\n",
      "-3768 \t -3768\n",
      "-11951 \t -11951\n",
      "95 \t 95\n",
      "error: 0\n",
      "\n",
      "\n",
      "starting\n",
      "30792 \t 30792\n",
      "-49817 \t -49817\n",
      "-37165 \t -37165\n",
      "2387 \t 2387\n",
      "-25240 \t -25240\n",
      "-57935 \t -57935\n",
      "-31947 \t -31947\n",
      "2191 \t 2191\n",
      "7007 \t 7007\n",
      "27326 \t 27326\n",
      "\n",
      "\n",
      "-4797 \t -4797\n",
      "2057 \t 2057\n",
      "109732 \t 109732\n",
      "-32562 \t -32562\n",
      "54265 \t 54265\n",
      "-36017 \t -36017\n",
      "54896 \t 54896\n",
      "48383 \t 48383\n",
      "-70644 \t -70644\n",
      "9010 \t 9010\n",
      "error: 0\n",
      "\n",
      "\n",
      "starting\n",
      "12140 \t 12140\n",
      "2640 \t 2640\n",
      "-27416 \t -27416\n",
      "28158 \t 28158\n",
      "22487 \t 22487\n",
      "53717 \t 53717\n",
      "23280 \t 23280\n",
      "25514 \t 25514\n",
      "-34126 \t -34126\n",
      "-37791 \t -37791\n",
      "\n",
      "\n",
      "0 \t 0\n",
      "0 \t 0\n",
      "0 \t 0\n",
      "0 \t 0\n",
      "0 \t 0\n",
      "0 \t 0\n",
      "0 \t 0\n",
      "0 \t 0\n",
      "0 \t 0\n",
      "0 \t 0\n",
      "error: 0\n"
     ]
    }
   ],
   "source": [
    "for i in range(3):\n",
    "\n",
    "    data_x = np.loadtxt(f\"{i}_x.txt\", dtype=np.int8)\n",
    "    data_w = np.loadtxt(f\"{i}_w.txt\", dtype=np.int8)\n",
    "    data_y_exp = np.loadtxt(f\"{i}_y_exp.txt\", dtype=np.int32)\n",
    "\n",
    "    x_buf = allocate(shape=data_x.shape, dtype=np.int8)\n",
    "    w_buf = allocate(shape=data_w.shape, dtype=np.int8)\n",
    "    y_buf = allocate(shape=data_y_exp.shape, dtype=np.int32)\n",
    "\n",
    "    x_buf[:] = data_x[:]\n",
    "    w_buf[:] = data_w[:]\n",
    "    y_buf[:] = 0\n",
    "    x_buf.flush()\n",
    "    w_buf.flush()\n",
    "    y_buf.flush()\n",
    "\n",
    "#     print(data_x.size, data_x, '\\n')\n",
    "#     print(data_w.size, data_w, '\\n')\n",
    "#     print(data_y_exp.size, data_y_exp, '\\n')\n",
    "    \n",
    "    print('\\n\\nstarting')\n",
    "    \n",
    "    y_recv.transfer(y_buf)\n",
    "\n",
    "    w_send.transfer(w_buf)\n",
    "    w_send.wait()\n",
    "\n",
    "    x_send.transfer(x_buf)\n",
    "    x_send.wait()\n",
    "\n",
    "    y_buf.invalidate()\n",
    "    \n",
    "    for i in range(10):\n",
    "        print(np.int32(y_buf[i]), '\\t', np.int32(data_y_exp[i]))\n",
    "        #print(hex(y_buf[i]))\n",
    "\n",
    "    print('\\n')\n",
    "\n",
    "    for i in range(10):\n",
    "        print(np.int32(y_buf[-i-1]), '\\t', np.int32(data_y_exp[-i-1]))\n",
    "        #print(hex(y_buf[i]))\n",
    "        \n",
    "    print('error:', np.sum(np.int32(data_y_exp) != np.int32(y_buf)))"
   ]
  },
  {
   "cell_type": "code",
   "execution_count": null,
   "id": "bc30a21a",
   "metadata": {},
   "outputs": [],
   "source": []
  }
 ],
 "metadata": {
  "kernelspec": {
   "display_name": "Python 3 (ipykernel)",
   "language": "python",
   "name": "python3"
  },
  "language_info": {
   "codemirror_mode": {
    "name": "ipython",
    "version": 3
   },
   "file_extension": ".py",
   "mimetype": "text/x-python",
   "name": "python",
   "nbconvert_exporter": "python",
   "pygments_lexer": "ipython3",
   "version": "3.10.4"
  }
 },
 "nbformat": 4,
 "nbformat_minor": 5
}
