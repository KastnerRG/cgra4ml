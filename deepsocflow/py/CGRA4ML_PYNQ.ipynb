{
 "cells": [
  {
   "cell_type": "markdown",
   "id": "893ff2ea",
   "metadata": {},
   "source": [
    "# DeepSoCFlow PYNQ Driver Test Notebook\n",
    "\n",
    "This notebook demonstrates how to use the PYNQ-based driver for the DeepSoCFlow CGRA accelerator. The driver provides a Python interface that replicates the bare-metal C runtime behavior, making it easier to test and validate the accelerator.\n",
    "\n",
    "## Imports and Setup"
   ]
  },
  {
   "cell_type": "code",
   "execution_count": null,
   "id": "295dbb69",
   "metadata": {},
   "outputs": [],
   "source": [
    "import pynq\n",
    "import numpy as np\n",
    "import json\n",
    "import os\n",
    "\n",
    "from pynq_driver import DeepSoCFlowPYNQ\n",
    "\n",
    "# Define paths to required files\n",
    "NOTEBOOK_DIR = os.getcwd() \n",
    "BITSTREAM_PATH = os.path.join(NOTEBOOK_DIR, 'design_1.bit')\n",
    "CONFIG_PATH = os.path.join(NOTEBOOK_DIR, 'config.json')\n",
    "WBX_PATH = os.path.join(NOTEBOOK_DIR, 'wbx.bin')\n",
    "Y_EXP_PATH = os.path.join(NOTEBOOK_DIR, 'y_exp.txt') \n",
    "\n",
    "# Verify all required files exist\n",
    "assert os.path.exists(BITSTREAM_PATH), f\"Bitstream not found at {BITSTREAM_PATH}\"\n",
    "assert os.path.exists(CONFIG_PATH), f\"Config file not found at {CONFIG_PATH}\"\n",
    "assert os.path.exists(WBX_PATH), f\"WBX file not found at {WBX_PATH}\"\n",
    "assert os.path.exists(Y_EXP_PATH), f\"Expected output file not found at {Y_EXP_PATH}\"\n",
    "\n",
    "print(\"Setup complete. All necessary files found.\")"
   ]
  },
  {
   "cell_type": "markdown",
   "id": "a281a184",
   "metadata": {},
   "source": [
    "## Load the FPGA Overlay\n",
    "\n",
    "Load the bitstream onto the FPGA fabric. This configures the programmable logic with the DeepSoCFlow accelerator."
   ]
  },
  {
   "cell_type": "code",
   "execution_count": null,
   "id": "b36d8595",
   "metadata": {},
   "outputs": [],
   "source": [
    "print(\"Loading overlay...\")\n",
    "overlay = pynq.Overlay(BITSTREAM_PATH)\n",
    "# overlay.ip_dict\n",
    "print(\"Overlay loaded successfully.\")"
   ]
  },
  {
   "cell_type": "markdown",
   "id": "86402183",
   "metadata": {},
   "source": [
    "## Initialize the Driver\n",
    "\n",
    "Create the PYNQ driver instance. This will:\n",
    "- Locate the accelerator IP in the overlay\n",
    "- Load the hardware configuration from `config.json`\n",
    "- Allocate contiguous memory buffers matching the C runtime structure"
   ]
  },
  {
   "cell_type": "code",
   "execution_count": null,
   "id": "fd1221ac",
   "metadata": {
    "scrolled": true
   },
   "outputs": [],
   "source": [
    "print(\"--- Initializing Driver ---\")\n",
    "\n",
    "ACCELERATOR_IP_NAME = 'axi_cgra4ml_0'\n",
    "\n",
    "driver = DeepSoCFlowPYNQ(overlay, config_path=CONFIG_PATH, accelerator_ip_name=ACCELERATOR_IP_NAME)\n",
    "\n",
    "print(\"\\n--- Driver initialization complete! ---\")"
   ]
  },
  {
   "cell_type": "markdown",
   "id": "6b448cbc",
   "metadata": {},
   "source": [
    "## Setup the Model\n",
    "\n",
    "Load model weights, biases, and input data from the `wbx.bin` file, then configure the accelerator by:\n",
    "- Pre-loading all bundle (layer) parameters into BRAM\n",
    "- Configuring hardware registers with memory addresses\n",
    "- Setting up control signals for PS-PL synchronization"
   ]
  },
  {
   "cell_type": "code",
   "execution_count": null,
   "id": "cd3c770f",
   "metadata": {},
   "outputs": [],
   "source": [
    "print(\"\\n--- Setting up Model ---\")\n",
    "driver.model_setup(wbx_path=WBX_PATH)\n",
    "print(\"\\n--- Model setup complete! ---\")"
   ]
  },
  {
   "cell_type": "markdown",
   "id": "ff8f0093",
   "metadata": {},
   "source": [
    "## Run Inference and Validate Results\n",
    "\n",
    "Execute the model inference on the accelerator and compare the output with expected results.\n",
    "\n",
    "The driver will:\n",
    "- Start the hardware accelerator\n",
    "- Process each bundle (layer) sequentially\n",
    "- Handle double-buffered OCM for PS-PL synchronization\n",
    "- Apply post-processing (bias, activation, pooling, softmax)\n",
    "- Return the final network output"
   ]
  },
  {
   "cell_type": "code",
   "execution_count": null,
   "id": "662e178e",
   "metadata": {},
   "outputs": [],
   "source": [
    "print(\"\\n--- Running Model Inference ---\")\n",
    "\n",
    "output = driver.model_run()\n",
    "\n",
    "print(\"\\n--- Model run complete! ---\")\n",
    "print(f\"Output shape: {output.shape}\")\n",
    "print(f\"Output dtype: {output.dtype}\")\n",
    "print(f\"First 10 output values:\\n{output[:10]}\")\n",
    "\n",
    "# Load expected output for comparison\n",
    "print(\"\\n--- Comparing Output with Expected Results ---\")\n",
    "last_bundle = driver.bundles[-1]\n",
    "output_dtype = np.float32 if last_bundle['is_softmax'] else np.int32\n",
    "expected_output = np.loadtxt(Y_EXP_PATH, dtype=output_dtype)\n",
    "\n",
    "print(f\"Expected output shape: {expected_output.shape}\")\n",
    "print(f\"Expected output dtype: {expected_output.dtype}\")\n",
    "print(f\"First 10 expected values:\\n{expected_output[:10]}\")\n",
    "\n",
    "# Compare outputs with tolerance\n",
    "is_close = np.allclose(output, expected_output, atol=1e-2, rtol=1e-2)\n",
    "print(f\"\\nOutputs match expected (within tolerance): {is_close}\")\n",
    "\n",
    "if not is_close:\n",
    "    print(\"\\n--- Differences Found ---\")\n",
    "    diff_idx = np.where(~np.isclose(output, expected_output, atol=1e-2, rtol=1e-2))[0]\n",
    "    if diff_idx.size > 0:\n",
    "        print(f\"Number of mismatches: {diff_idx.size}\")\n",
    "        print(\"First 20 differences:\")\n",
    "        for i in range(min(20, diff_idx.size)):\n",
    "            idx = diff_idx[i]\n",
    "            pynq_val = output[idx]\n",
    "            exp_val = expected_output[idx]\n",
    "            diff = abs(pynq_val - exp_val)\n",
    "            print(f\"  Index {idx}: PYNQ={pynq_val:.6f}, Expected={exp_val:.6f}, Diff={diff:.6f}\")\n",
    "\n",
    "print(\"\\n--- Validation Complete ---\")"
   ]
  },
  {
   "cell_type": "markdown",
   "id": "1cd98521",
   "metadata": {},
   "source": [
    "## Cleanup\n",
    "\n",
    "Release allocated resources and free the overlay."
   ]
  },
  {
   "cell_type": "code",
   "execution_count": null,
   "id": "5262b330",
   "metadata": {},
   "outputs": [],
   "source": [
    "print(\"\\n--- Cleaning Up Resources ---\")\n",
    "\n",
    "# Release driver resources\n",
    "try:\n",
    "    if 'driver' in locals() and driver is not None:\n",
    "        del driver\n",
    "except NameError:\n",
    "    pass\n",
    "\n",
    "# Free the overlay\n",
    "try:\n",
    "    if 'overlay' in locals() and overlay is not None:\n",
    "        overlay.free()\n",
    "except NameError:\n",
    "    pass\n",
    "\n",
    "print(\"Cleanup complete.\")"
   ]
  }
 ],
 "metadata": {
  "kernelspec": {
   "display_name": "Python 3 (ipykernel)",
   "language": "python",
   "name": "python3"
  },
  "language_info": {
   "codemirror_mode": {
    "name": "ipython",
    "version": 3
   },
   "file_extension": ".py",
   "mimetype": "text/x-python",
   "name": "python",
   "nbconvert_exporter": "python",
   "pygments_lexer": "ipython3",
   "version": "3.10.4"
  }
 },
 "nbformat": 4,
 "nbformat_minor": 5
}
